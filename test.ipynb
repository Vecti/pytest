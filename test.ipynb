{
 "cells": [
  {
   "cell_type": "markdown",
   "metadata": {},
   "source": []
  },
  {
   "attachments": {},
   "cell_type": "markdown",
   "metadata": {},
   "source": [
    "#### what it looks\n",
    "---\n",
    "\n",
    "it looks for files which STARTS OR END with name test in direc/subdirec \\\n",
    "kurwa serio test must be leading/ending \\\n",
    "methods must START with TEST \\\n",
    "either all files pytest, or specify path to single one\n",
    "\n",
    "---\n",
    "does not execute the .ipynb format \n",
    "\n",
    "---\n",
    "important example about single instances of class -> see test_class_instance"
   ]
  },
  {
   "cell_type": "markdown",
   "metadata": {},
   "source": []
  },
  {
   "attachments": {},
   "cell_type": "markdown",
   "metadata": {},
   "source": [
    "##### interesting  points\n",
    "---\n",
    "\n",
    "\n",
    "TEST CLASS CANNOT HAVE AN def INIT \\\n",
    "\n",
    "to learn: \\ \n",
    "adding info to pytest \\\n",
    "fixturesm \\\n",
    "running pytest with databricks? \\\n",
    "saving the issue to database? \\\n",
    "parallelization \\\n",
    "use unittest in pytest \\\n",
    "test in yml file \\\n",
    "different assertions \\\n",
    "\n",
    "something about log levels \\\n",
    "\n",
    "MY OWN EXAMPLE with TDDor TAD \\"
   ]
  },
  {
   "attachments": {},
   "cell_type": "markdown",
   "metadata": {},
   "source": [
    "maybe interesting\n",
    "\n",
    "-k -> keyword, find only test with those keywords, so we can subcomponents if we needed\n",
    "-q -> quiet\n",
    "-v -> verbose"
   ]
  }
 ],
 "metadata": {
  "kernelspec": {
   "display_name": "fin_playground",
   "language": "python",
   "name": "python3"
  },
  "language_info": {
   "codemirror_mode": {
    "name": "ipython",
    "version": 3
   },
   "file_extension": ".py",
   "mimetype": "text/x-python",
   "name": "python",
   "nbconvert_exporter": "python",
   "pygments_lexer": "ipython3",
   "version": "3.9.16"
  },
  "orig_nbformat": 4,
  "vscode": {
   "interpreter": {
    "hash": "3f31e3fe66425071dcf24a8a6e0940c0b6f8b583b7e9f0c527e204f6d08b2828"
   }
  }
 },
 "nbformat": 4,
 "nbformat_minor": 2
}
