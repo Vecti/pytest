{
 "cells": [
  {
   "cell_type": "markdown",
   "metadata": {},
   "source": []
  },
  {
   "attachments": {},
   "cell_type": "markdown",
   "metadata": {},
   "source": [
    "#### what it looks\n",
    "---\n",
    "\n",
    "it looks for files which STARTS OR END with name test in direc/subdirec \\\n",
    "kurwa serio test must be leading/ending \\\n",
    "methods must START with TEST \\\n",
    "either all files pytest, or specify path to single one\n",
    "\n",
    "---\n",
    "does not execute the .ipynb format \n",
    "\n",
    "---\n",
    "important example about single instances of class -> see test_class_instance"
   ]
  },
  {
   "attachments": {},
   "cell_type": "markdown",
   "metadata": {},
   "source": [
    "##### interesting  points\n",
    "---\n",
    "\n",
    "\n",
    "TEST CLASS CANNOT HAVE AN def INIT \\\n",
    "\n",
    "to learn: \\ \n",
    "\n",
    "running pytest with databricks? \\\n",
    "saving the issue to database? \\\n",
    "test in yml file \\\n",
    "different assertions \\\n",
    "\n",
    "something about log levels \\\n"
   ]
  },
  {
   "attachments": {},
   "cell_type": "markdown",
   "metadata": {},
   "source": [
    "https://docs.pytest.org/en/7.2.x/how-to/usage.html#usage\n",
    "\n",
    "flags\n",
    "\n",
    "-k -> keyword, find only test with those keywords, so we can subcomponents if we needed\n",
    "-q -> quiet\n",
    "-v -> verbose\n",
    "-h -> help, obvious\n",
    "-l show variables -> might help\n",
    "\n",
    "pytest runs all\n",
    "pytest folder/ this folder\n",
    "pytest -k: this tests with keywords\n",
    "\n",
    "pytest.main() for running it from file, not from terminal\n",
    "\n",
    "also using mark/node ID for run test\n",
    "pytest -m (mark) onlyme / \"not only me\"\n",
    "or similarly path/ ::class::method or module::function - ez\n",
    "\n",
    "pytest.ini - ''father folder'' - define your own markers, hierarchies/ ifs\n",
    "\n",
    "create own assertions/ explanation for asserrtions https://docs.pytest.org/en/7.2.x/how-to/assert.html - bottom page\n",
    "\n",
    "-x stop after 1st failure\n",
    "--maxfail=2\n",
    "pdb : debugger n/s/b/p/c/unt/q https://qxf2.com/blog/debugging-in-python-using-pytest-set_trace/"
   ]
  },
  {
   "attachments": {},
   "cell_type": "markdown",
   "metadata": {},
   "source": [
    "-xdist plugin: tests can be run paralled (plugin)\n",
    "use -n 3 (run by multiple workers) - so tests are not runned sequentially"
   ]
  },
  {
   "attachments": {},
   "cell_type": "markdown",
   "metadata": {},
   "source": [
    "unittest - can be used in basic scenarios (no fixtures/etc) - so probably to skip"
   ]
  },
  {
   "attachments": {},
   "cell_type": "markdown",
   "metadata": {},
   "source": [
    "fixtures\n",
    "---\n",
    "* think as 'arrange' component\n",
    "* already defined/ easy to create own fixtures\n",
    "* provide fixtures to tests, it provides components which are runned / cached/ then tests\n",
    "* we can make fixtures on everything: methods, functions, classes, other fixtures\n",
    "\n",
    "\n",
    "--- \n",
    "pros\n",
    "* fixtures can divide our work into more cleaned one and so on, fixture in fixture\n",
    "* reusable - and safe\n",
    "* multiple reusable\n",
    "* FIXTURES DOES NOT NEED TO HAVE THOSE STUPID TEST IN NAME\n",
    "* fixtures can run /return modules\n",
    "\n",
    "---\n",
    "potential minus?\n",
    "* fixture cant get an argument 'directly' - so you have to use them differently - but also thats expected"
   ]
  }
 ],
 "metadata": {
  "kernelspec": {
   "display_name": "fin_playground",
   "language": "python",
   "name": "python3"
  },
  "language_info": {
   "codemirror_mode": {
    "name": "ipython",
    "version": 3
   },
   "file_extension": ".py",
   "mimetype": "text/x-python",
   "name": "python",
   "nbconvert_exporter": "python",
   "pygments_lexer": "ipython3",
   "version": "3.9.16"
  },
  "orig_nbformat": 4,
  "vscode": {
   "interpreter": {
    "hash": "3f31e3fe66425071dcf24a8a6e0940c0b6f8b583b7e9f0c527e204f6d08b2828"
   }
  }
 },
 "nbformat": 4,
 "nbformat_minor": 2
}
