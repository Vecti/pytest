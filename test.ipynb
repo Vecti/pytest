{
 "cells": [
  {
   "cell_type": "markdown",
   "metadata": {},
   "source": []
  },
  {
   "attachments": {},
   "cell_type": "markdown",
   "metadata": {},
   "source": [
    "#### what it looks\n",
    "---\n",
    "\n",
    "it looks for files which STARTS OR END with name test in direc/subdirec \\\n",
    "kurwa serio test must be leading/ending \\\n",
    "methods must START with TEST \\\n",
    "either all files pytest, or specify path to single one\n",
    "\n",
    "---\n",
    "does not execute the .ipynb format \n",
    "\n",
    "---\n",
    "important example about single instances of class -> see test_class_instance"
   ]
  },
  {
   "attachments": {},
   "cell_type": "markdown",
   "metadata": {},
   "source": [
    "##### interesting  points\n",
    "---\n",
    "\n",
    "\n",
    "TEST CLASS CANNOT HAVE AN def INIT \\\n",
    "\n",
    "to learn: \\ \n",
    "adding info to pytest \\\n",
    "fixturesm \\\n",
    "running pytest with databricks? \\\n",
    "saving the issue to database? \\\n",
    "parallelization \\\n",
    "use unittest in pytest \\\n",
    "test in yml file \\\n",
    "different assertions \\\n",
    "\n",
    "something about log levels \\\n",
    "\n",
    "MY OWN EXAMPLE with TDDor TAD \\"
   ]
  },
  {
   "attachments": {},
   "cell_type": "markdown",
   "metadata": {},
   "source": [
    "https://docs.pytest.org/en/7.2.x/how-to/usage.html#usage\n",
    "\n",
    "flags\n",
    "\n",
    "-k -> keyword, find only test with those keywords, so we can subcomponents if we needed\n",
    "-q -> quiet\n",
    "-v -> verbose\n",
    "-h -> help, obvious\n",
    "-l show variables -> might help\n",
    "\n",
    "pytest runs all\n",
    "pytest folder/ this folder\n",
    "pytest -k: this tests with keywords\n",
    "\n",
    "pytest.main() for running it from file, not from terminal\n",
    "\n",
    "also using mark/node ID for run test\n",
    "pytest -m (mark) onlyme / \"not only me\"\n",
    "or similarly path/ ::class::method or module::function - ez\n",
    "\n",
    "pytest.ini - ''father folder'' - define your own markers, hierarchies/ ifs\n",
    "\n",
    "create own assertions/ explanation for asserrtions https://docs.pytest.org/en/7.2.x/how-to/assert.html - bottom page\n",
    "\n",
    "-x stop after 1st failure\n",
    "--maxfail=2\n",
    "pdb : debugger n/s/b/p/c/unt/q https://qxf2.com/blog/debugging-in-python-using-pytest-set_trace/"
   ]
  },
  {
   "cell_type": "code",
   "execution_count": null,
   "metadata": {},
   "outputs": [],
   "source": [
    "import pytest"
   ]
  },
  {
   "cell_type": "code",
   "execution_count": 1,
   "metadata": {},
   "outputs": [
    {
     "ename": "NameError",
     "evalue": "name 'pytest' is not defined",
     "output_type": "error",
     "traceback": [
      "\u001b[1;31m---------------------------------------------------------------------------\u001b[0m",
      "\u001b[1;31mNameError\u001b[0m                                 Traceback (most recent call last)",
      "\u001b[1;32m~\\AppData\\Local\\Temp/ipykernel_20412/2173798529.py\u001b[0m in \u001b[0;36m<module>\u001b[1;34m\u001b[0m\n\u001b[1;32m----> 1\u001b[1;33m \u001b[1;33m@\u001b[0m\u001b[0mpytest\u001b[0m\u001b[1;33m.\u001b[0m\u001b[0mfixture\u001b[0m\u001b[1;33m(\u001b[0m\u001b[1;33m)\u001b[0m\u001b[1;33m\u001b[0m\u001b[1;33m\u001b[0m\u001b[0m\n\u001b[0m\u001b[0;32m      2\u001b[0m \u001b[1;32mdef\u001b[0m \u001b[0mshow_dividers\u001b[0m\u001b[1;33m(\u001b[0m\u001b[1;33m)\u001b[0m\u001b[1;33m:\u001b[0m\u001b[1;33m\u001b[0m\u001b[1;33m\u001b[0m\u001b[0m\n\u001b[0;32m      3\u001b[0m     \u001b[1;32mdef\u001b[0m \u001b[0m_show_dividers\u001b[0m\u001b[1;33m(\u001b[0m\u001b[0mnumber\u001b[0m\u001b[1;33m)\u001b[0m\u001b[1;33m:\u001b[0m\u001b[1;33m\u001b[0m\u001b[1;33m\u001b[0m\u001b[0m\n\u001b[0;32m      4\u001b[0m         \u001b[1;32mreturn\u001b[0m \u001b[1;33m[\u001b[0m\u001b[0mi\u001b[0m \u001b[1;32mfor\u001b[0m \u001b[0mi\u001b[0m \u001b[1;32min\u001b[0m \u001b[0mrange\u001b[0m\u001b[1;33m(\u001b[0m\u001b[0mnumber\u001b[0m\u001b[1;33m)\u001b[0m \u001b[1;32mif\u001b[0m \u001b[0mnumber\u001b[0m\u001b[1;33m%\u001b[0m\u001b[0mi\u001b[0m\u001b[1;33m==\u001b[0m\u001b[1;36m0\u001b[0m\u001b[1;33m]\u001b[0m\u001b[1;33m\u001b[0m\u001b[1;33m\u001b[0m\u001b[0m\n\u001b[0;32m      5\u001b[0m     \u001b[1;32mreturn\u001b[0m \u001b[0m_show_dividers\u001b[0m\u001b[1;33m\u001b[0m\u001b[1;33m\u001b[0m\u001b[0m\n",
      "\u001b[1;31mNameError\u001b[0m: name 'pytest' is not defined"
     ]
    }
   ],
   "source": [
    "@pytest.fixture()\n",
    "def show_dividers():\n",
    "    def _show_dividers(number):\n",
    "        return [i for i in range(number) if number%i==0]\n",
    "    return _show_dividers\n",
    "\n",
    "\n",
    "def test_customer_records(show_dividers):\n",
    "    customer_1 = show_dividers(6)\n",
    "    return customer_1"
   ]
  },
  {
   "attachments": {},
   "cell_type": "markdown",
   "metadata": {},
   "source": [
    "-xdist plugin: tests can be run paralled (plugin)\n",
    "use -n 3 (run by multiple workers) - so tests are not runned sequentially"
   ]
  },
  {
   "cell_type": "code",
   "execution_count": 17,
   "metadata": {},
   "outputs": [
    {
     "data": {
      "text/plain": [
       "numpy.int32"
      ]
     },
     "execution_count": 17,
     "metadata": {},
     "output_type": "execute_result"
    }
   ],
   "source": [
    "import pytest\n",
    "import numpy as np\n",
    "\n",
    "\n",
    "card_options = [2,3,4,5]\n",
    "type(np.random.choice(card_options))"
   ]
  },
  {
   "cell_type": "code",
   "execution_count": null,
   "metadata": {},
   "outputs": [],
   "source": [
    "pip install sktime[all_extras]"
   ]
  }
 ],
 "metadata": {
  "kernelspec": {
   "display_name": "mlflow_exp",
   "language": "python",
   "name": "python3"
  },
  "language_info": {
   "codemirror_mode": {
    "name": "ipython",
    "version": 3
   },
   "file_extension": ".py",
   "mimetype": "text/x-python",
   "name": "python",
   "nbconvert_exporter": "python",
   "pygments_lexer": "ipython3",
   "version": "3.9.16"
  },
  "orig_nbformat": 4,
  "vscode": {
   "interpreter": {
    "hash": "e7976a58727cddc9f5f8617e192e9619c0b5ddfa57806ec18044762bfe71e1e3"
   }
  }
 },
 "nbformat": 4,
 "nbformat_minor": 2
}
